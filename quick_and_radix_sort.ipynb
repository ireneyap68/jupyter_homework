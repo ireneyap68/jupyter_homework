{
 "cells": [
  {
   "cell_type": "code",
   "execution_count": 18,
   "metadata": {},
   "outputs": [],
   "source": [
    "nums = [413, 445, 403, 224, 157, 312, 785, 862, 602]"
   ]
  },
  {
   "cell_type": "code",
   "execution_count": 19,
   "metadata": {},
   "outputs": [
    {
     "name": "stdout",
     "output_type": "stream",
     "text": [
      "Result [157, 224]\n",
      "Result [413, 445]\n",
      "Result [403, 413, 445]\n",
      "Result [157, 224, 312, 403, 413, 445]\n",
      "Result [785, 862]\n",
      "Result [157, 224, 312, 403, 413, 445, 602, 785, 862]\n"
     ]
    },
    {
     "data": {
      "text/plain": [
       "[157, 224, 312, 403, 413, 445, 602, 785, 862]"
      ]
     },
     "execution_count": 19,
     "metadata": {},
     "output_type": "execute_result"
    }
   ],
   "source": [
    "def quick_sort(ls):\n",
    "    # Base case\n",
    "    if len(ls) <= 1:\n",
    "        return ls\n",
    "\n",
    "    pivot = ls.pop() # 9\n",
    "    left = [x for x in ls if x <= pivot]\n",
    "    # left = [3, 2]\n",
    "    right = [y for y in ls if y > pivot]\n",
    "    # right = [23, 12, 17, 23]\n",
    "\n",
    "    left_sorted = quick_sort(left)\n",
    "    right_sorted = quick_sort(right)\n",
    "    print('Result', left_sorted + [pivot] + right_sorted)\n",
    "    return left_sorted + [pivot] + right_sorted\n",
    "\n",
    "quick_sort(nums)"
   ]
  },
  {
   "cell_type": "code",
   "execution_count": null,
   "metadata": {},
   "outputs": [],
   "source": []
  }
 ],
 "metadata": {
  "kernelspec": {
   "display_name": "Python 3",
   "language": "python",
   "name": "python3"
  },
  "language_info": {
   "codemirror_mode": {
    "name": "ipython",
    "version": 3
   },
   "file_extension": ".py",
   "mimetype": "text/x-python",
   "name": "python",
   "nbconvert_exporter": "python",
   "pygments_lexer": "ipython3",
   "version": "3.8.5"
  }
 },
 "nbformat": 4,
 "nbformat_minor": 4
}
