{
 "cells": [
  {
   "cell_type": "code",
   "execution_count": 18,
   "metadata": {},
   "outputs": [],
   "source": [
    "nums = [413, 445, 403, 224, 157, 312, 785, 862, 602]"
   ]
  },
  {
   "cell_type": "code",
   "execution_count": 19,
   "metadata": {},
   "outputs": [
    {
     "name": "stdout",
     "output_type": "stream",
     "text": [
      "Result [157, 224]\n",
      "Result [413, 445]\n",
      "Result [403, 413, 445]\n",
      "Result [157, 224, 312, 403, 413, 445]\n",
      "Result [785, 862]\n",
      "Result [157, 224, 312, 403, 413, 445, 602, 785, 862]\n"
     ]
    },
    {
     "data": {
      "text/plain": [
       "[157, 224, 312, 403, 413, 445, 602, 785, 862]"
      ]
     },
     "execution_count": 19,
     "metadata": {},
     "output_type": "execute_result"
    }
   ],
   "source": [
    "def quick_sort(ls):\n",
    "    # Base case\n",
    "    if len(ls) <= 1:\n",
    "        return ls\n",
    "\n",
    "    pivot = ls.pop() # 9\n",
    "    left = [x for x in ls if x <= pivot]\n",
    "    # left = [3, 2]\n",
    "    right = [y for y in ls if y > pivot]\n",
    "    # right = [23, 12, 17, 23]\n",
    "\n",
    "    left_sorted = quick_sort(left)\n",
    "    right_sorted = quick_sort(right)\n",
    "    print('Result', left_sorted + [pivot] + right_sorted)\n",
    "    return left_sorted + [pivot] + right_sorted\n",
    "\n",
    "quick_sort(nums)"
   ]
  },
  {
   "cell_type": "code",
   "execution_count": 20,
   "metadata": {},
   "outputs": [
    {
     "name": "stdout",
     "output_type": "stream",
     "text": [
      "this is k:  3\n",
      "[]\n",
      "[]\n",
      "[312, 862]\n",
      "[312, 862, 413, 403]\n",
      "[312, 862, 413, 403, 224]\n",
      "[312, 862, 413, 403, 224, 445, 785]\n",
      "[312, 862, 413, 403, 224, 445, 785]\n",
      "[312, 862, 413, 403, 224, 445, 785, 157]\n",
      "[312, 862, 413, 403, 224, 445, 785, 157]\n",
      "[312, 862, 413, 403, 224, 445, 785, 157]\n",
      "[403]\n",
      "[403, 312, 413]\n",
      "[403, 312, 413, 224]\n",
      "[403, 312, 413, 224]\n",
      "[403, 312, 413, 224, 445]\n",
      "[403, 312, 413, 224, 445, 157]\n",
      "[403, 312, 413, 224, 445, 157, 862]\n",
      "[403, 312, 413, 224, 445, 157, 862]\n",
      "[403, 312, 413, 224, 445, 157, 862, 785]\n",
      "[403, 312, 413, 224, 445, 157, 862, 785]\n",
      "[]\n",
      "[157]\n",
      "[157, 224]\n",
      "[157, 224, 312]\n",
      "[157, 224, 312, 403, 413, 445]\n",
      "[157, 224, 312, 403, 413, 445]\n",
      "[157, 224, 312, 403, 413, 445]\n",
      "[157, 224, 312, 403, 413, 445, 785]\n",
      "[157, 224, 312, 403, 413, 445, 785, 862]\n",
      "[157, 224, 312, 403, 413, 445, 785, 862]\n",
      "Sorted list:  [157, 224, 312, 403, 413, 445, 785, 862]\n"
     ]
    }
   ],
   "source": [
    "def radix_sort(ls):\n",
    "    # Determine k (length of longest number)\n",
    "    k = len(str(max(ls)))\n",
    "    # Start a k loop\n",
    "    print('this is k: ', k)\n",
    "    for i in range(k):\n",
    "        # Make buckets for values 0-9\n",
    "        buckets = make_buckets()\n",
    "        # Make inner n loop\n",
    "        for j in range(len(ls)):\n",
    "            # Determine the \"place\" we're looking at\n",
    "            place = 10**i\n",
    "            # Chop down the number to the correct digit\n",
    "            digit = ls[j] // place\n",
    "            # Get the bucket number\n",
    "            bucket_num = digit % 10\n",
    "            # Place the value into the correct bucket\n",
    "            buckets[bucket_num].append(ls[j])\n",
    "        # Mash the buckets together\n",
    "        ls = flatten(buckets)\n",
    "    return ls\n",
    "\n",
    "def flatten(buckets):\n",
    "    flat = []\n",
    "    for bucket in buckets:\n",
    "        flat += bucket\n",
    "        print(flat)\n",
    "    return flat \n",
    "\n",
    "def make_buckets():\n",
    "    buckets = []\n",
    "    for i in range(10):\n",
    "        buckets.append([])\n",
    "    return buckets\n",
    "print('Sorted list: ', radix_sort(nums))"
   ]
  },
  {
   "cell_type": "code",
   "execution_count": null,
   "metadata": {},
   "outputs": [],
   "source": []
  }
 ],
 "metadata": {
  "kernelspec": {
   "display_name": "Python 3",
   "language": "python",
   "name": "python3"
  },
  "language_info": {
   "codemirror_mode": {
    "name": "ipython",
    "version": 3
   },
   "file_extension": ".py",
   "mimetype": "text/x-python",
   "name": "python",
   "nbconvert_exporter": "python",
   "pygments_lexer": "ipython3",
   "version": "3.8.5"
  }
 },
 "nbformat": 4,
 "nbformat_minor": 4
}
