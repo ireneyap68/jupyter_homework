{
 "cells": [
  {
   "cell_type": "code",
   "execution_count": 1,
   "metadata": {},
   "outputs": [
    {
     "name": "stdout",
     "output_type": "stream",
     "text": [
      "60\n",
      "60\n",
      "52\n",
      "131\n"
     ]
    }
   ],
   "source": [
    "def primeRangeSum(num1, num2):\n",
    "    total = 0\n",
    "    if num2>num1:\n",
    "        for i in range(num1, num2+1):\n",
    "            if isprime(i):\n",
    "                total = total + i\n",
    "        return total\n",
    "    else:\n",
    "        for i in range(num2, num1+1):\n",
    "            if isprime(i):\n",
    "                total = total + i\n",
    "        return total\n",
    "def isprime(num):\n",
    "    temp = 0\n",
    "    if num == 1:\n",
    "        return True\n",
    "    else:\n",
    "        for i in range(2, num):\n",
    "            if num % i == 0: #yes\n",
    "                temp += 1\n",
    "        if temp > 0:\n",
    "            return False\n",
    "        else:\n",
    "            return True\n",
    "print(primeRangeSum(10, 20))\n",
    "print(primeRangeSum(20, 10))\n",
    "print(primeRangeSum(20, 29))\n",
    "print(primeRangeSum(50, 41))"
   ]
  },
  {
   "cell_type": "code",
   "execution_count": 2,
   "metadata": {},
   "outputs": [],
   "source": [
    "def is_prime(n):\n",
    "    #Anything that is less than 2 is not prime\n",
    "    #A prime num is a num that is only divisible by itself\n",
    "    \n",
    "    if n < 2:\n",
    "        return False\n",
    "    # check each number from 2 to n to see if any number is divisible by n\n",
    "    \n",
    "    for i in range(2, n):\n",
    "        #check to see if n % i == 0\n",
    "        #one example 15 -> False\n",
    "        \n",
    "        if n % i == 0:\n",
    "            return False\n",
    "    # Num is prime\n",
    "    return True"
   ]
  },
  {
   "cell_type": "code",
   "execution_count": 3,
   "metadata": {},
   "outputs": [
    {
     "name": "stdout",
     "output_type": "stream",
     "text": [
      "True\n",
      "False\n",
      "True\n",
      "False\n"
     ]
    }
   ],
   "source": [
    "print(is_prime(2))\n",
    "print(is_prime(4))\n",
    "print(is_prime(101))\n",
    "print(is_prime(-1))"
   ]
  },
  {
   "cell_type": "code",
   "execution_count": 10,
   "metadata": {},
   "outputs": [],
   "source": [
    "def prime_range_sum(num1, num2):\n",
    "    # result variable to store additions of prime numbers\n",
    "    result = 0\n",
    "    \n",
    "    # check to see if num1 is less than num2\n",
    "    if num1 > num2:\n",
    "        temp = num2\n",
    "        num2 = num1\n",
    "        \n",
    "        num1 = temp\n",
    "    \n",
    "    # loop from num1 to num2 (inclusive) and check each number to see if prime\n",
    "    # if prime, then I want to add the number to my result\n",
    "    for i in range(num1, (num2 + 1)):\n",
    "        # pass in i into my is_prime function\n",
    "            if (is_prime(i)):\n",
    "                result += i\n",
    "    \n",
    "    return result"
   ]
  },
  {
   "cell_type": "code",
   "execution_count": 12,
   "metadata": {},
   "outputs": [
    {
     "name": "stdout",
     "output_type": "stream",
     "text": [
      "60\n",
      "131\n"
     ]
    }
   ],
   "source": [
    "print(prime_range_sum(10,20))\n",
    "print(prime_range_sum(50,41))"
   ]
  },
  {
   "cell_type": "code",
   "execution_count": null,
   "metadata": {},
   "outputs": [],
   "source": []
  }
 ],
 "metadata": {
  "kernelspec": {
   "display_name": "Python 3",
   "language": "python",
   "name": "python3"
  },
  "language_info": {
   "codemirror_mode": {
    "name": "ipython",
    "version": 3
   },
   "file_extension": ".py",
   "mimetype": "text/x-python",
   "name": "python",
   "nbconvert_exporter": "python",
   "pygments_lexer": "ipython3",
   "version": "3.8.5"
  }
 },
 "nbformat": 4,
 "nbformat_minor": 4
}
